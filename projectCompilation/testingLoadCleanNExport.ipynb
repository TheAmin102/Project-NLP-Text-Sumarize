{
 "cells": [
  {
   "cell_type": "code",
   "execution_count": 2,
   "metadata": {},
   "outputs": [
    {
     "name": "stdout",
     "output_type": "stream",
     "text": [
      "Text File Output in paragraph:  CleanedTextTesting.txt\n",
      "Text File Output in words:  CleanedTextWordsTesting.txt\n"
     ]
    }
   ],
   "source": [
    "import re\n",
    "import unicodedata\n",
    "\n",
    "# Step 1: Read the text file\n",
    "input_file = 'paperThailand.txt'\n",
    "\n",
    "with open(input_file, 'r', encoding='utf-8') as file:\n",
    "    text = file.read()\n",
    "\n",
    "# Step 2: Clean the data for natural language processing\n",
    "cleaned_text = unicodedata.normalize('NFKD', text).encode('ascii', 'ignore').decode('utf-8', 'ignore')\n",
    "cleaned_text = re.sub(r'\\W', ' ', text)  # Remove non-alphanumeric characters\n",
    "cleaned_text = re.sub(r'\\s+', ' ', cleaned_text)  # Replace multiple whitespaces with a single space\n",
    "cleaned_text = cleaned_text.strip()  # Remove leading and trailing whitespaces\n",
    "\n",
    "# Step 3: Export the cleaned text to a file\n",
    "output_file = 'CleanedTextTesting.txt'\n",
    "\n",
    "with open(output_file, 'w', encoding='utf-8') as file:\n",
    "    file.write(cleaned_text)\n",
    "\n",
    "# Step 4: Export the words into a text file word by word\n",
    "words = cleaned_text.split()  # Split the cleaned text into words\n",
    "\n",
    "output_words_file = 'CleanedTextWordsTesting.txt'\n",
    "\n",
    "with open(output_words_file, 'w', encoding='utf-8') as file:\n",
    "    file.writelines([word + '\\n' for word in words])\n",
    "\n",
    "print(\"Text File Output in paragraph: \", output_file)\n",
    "print(\"Text File Output in words: \", output_words_file)"
   ]
  }
 ],
 "metadata": {
  "kernelspec": {
   "display_name": "Python 3",
   "language": "python",
   "name": "python3"
  },
  "language_info": {
   "codemirror_mode": {
    "name": "ipython",
    "version": 3
   },
   "file_extension": ".py",
   "mimetype": "text/x-python",
   "name": "python",
   "nbconvert_exporter": "python",
   "pygments_lexer": "ipython3",
   "version": "3.10.11"
  },
  "orig_nbformat": 4
 },
 "nbformat": 4,
 "nbformat_minor": 2
}
